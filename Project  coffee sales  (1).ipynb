{
 "cells": [
  {
   "cell_type": "code",
   "execution_count": 1,
   "id": "0cb17936-2ee6-43d8-afea-a62e0c41dff1",
   "metadata": {},
   "outputs": [],
   "source": [
    "import pandas as pd\n",
    "import pyodbc\n",
    "import matplotlib.pyplot as plt\n",
    "import numpy as np\n",
    "import seaborn as sns\n",
    "import os"
   ]
  },
  {
   "cell_type": "code",
   "execution_count": 3,
   "id": "d73134fb-28cb-4f8d-9cab-9614dfbab578",
   "metadata": {},
   "outputs": [
    {
     "name": "stderr",
     "output_type": "stream",
     "text": [
      "<>:1: SyntaxWarning: invalid escape sequence '\\d'\n",
      "<>:1: SyntaxWarning: invalid escape sequence '\\d'\n",
      "C:\\Users\\dell\\AppData\\Local\\Temp\\ipykernel_6724\\1365620512.py:1: SyntaxWarning: invalid escape sequence '\\d'\n",
      "  os.chdir('C:\\\\Users\\dell\\\\projects datasets')\n"
     ]
    },
    {
     "data": {
      "text/html": [
       "<div>\n",
       "<style scoped>\n",
       "    .dataframe tbody tr th:only-of-type {\n",
       "        vertical-align: middle;\n",
       "    }\n",
       "\n",
       "    .dataframe tbody tr th {\n",
       "        vertical-align: top;\n",
       "    }\n",
       "\n",
       "    .dataframe thead th {\n",
       "        text-align: right;\n",
       "    }\n",
       "</style>\n",
       "<table border=\"1\" class=\"dataframe\">\n",
       "  <thead>\n",
       "    <tr style=\"text-align: right;\">\n",
       "      <th></th>\n",
       "      <th>hour_of_day</th>\n",
       "      <th>cash_type</th>\n",
       "      <th>money</th>\n",
       "      <th>coffee_name</th>\n",
       "      <th>Time_of_Day</th>\n",
       "      <th>Weekday</th>\n",
       "      <th>Month_name</th>\n",
       "      <th>Weekdaysort</th>\n",
       "      <th>Monthsort</th>\n",
       "      <th>Date</th>\n",
       "      <th>Time</th>\n",
       "    </tr>\n",
       "  </thead>\n",
       "  <tbody>\n",
       "    <tr>\n",
       "      <th>0</th>\n",
       "      <td>10</td>\n",
       "      <td>card</td>\n",
       "      <td>38.70</td>\n",
       "      <td>Latte</td>\n",
       "      <td>Morning</td>\n",
       "      <td>Fri</td>\n",
       "      <td>Mar</td>\n",
       "      <td>5</td>\n",
       "      <td>3</td>\n",
       "      <td>2024-03-01</td>\n",
       "      <td>10:15:50.520000</td>\n",
       "    </tr>\n",
       "    <tr>\n",
       "      <th>1</th>\n",
       "      <td>12</td>\n",
       "      <td>card</td>\n",
       "      <td>38.70</td>\n",
       "      <td>Hot Chocolate</td>\n",
       "      <td>Afternoon</td>\n",
       "      <td>Fri</td>\n",
       "      <td>Mar</td>\n",
       "      <td>5</td>\n",
       "      <td>3</td>\n",
       "      <td>2024-03-01</td>\n",
       "      <td>12:19:22.539000</td>\n",
       "    </tr>\n",
       "    <tr>\n",
       "      <th>2</th>\n",
       "      <td>12</td>\n",
       "      <td>card</td>\n",
       "      <td>38.70</td>\n",
       "      <td>Hot Chocolate</td>\n",
       "      <td>Afternoon</td>\n",
       "      <td>Fri</td>\n",
       "      <td>Mar</td>\n",
       "      <td>5</td>\n",
       "      <td>3</td>\n",
       "      <td>2024-03-01</td>\n",
       "      <td>12:20:18.089000</td>\n",
       "    </tr>\n",
       "    <tr>\n",
       "      <th>3</th>\n",
       "      <td>13</td>\n",
       "      <td>card</td>\n",
       "      <td>28.90</td>\n",
       "      <td>Americano</td>\n",
       "      <td>Afternoon</td>\n",
       "      <td>Fri</td>\n",
       "      <td>Mar</td>\n",
       "      <td>5</td>\n",
       "      <td>3</td>\n",
       "      <td>2024-03-01</td>\n",
       "      <td>13:46:33.006000</td>\n",
       "    </tr>\n",
       "    <tr>\n",
       "      <th>4</th>\n",
       "      <td>13</td>\n",
       "      <td>card</td>\n",
       "      <td>38.70</td>\n",
       "      <td>Latte</td>\n",
       "      <td>Afternoon</td>\n",
       "      <td>Fri</td>\n",
       "      <td>Mar</td>\n",
       "      <td>5</td>\n",
       "      <td>3</td>\n",
       "      <td>2024-03-01</td>\n",
       "      <td>13:48:14.626000</td>\n",
       "    </tr>\n",
       "    <tr>\n",
       "      <th>...</th>\n",
       "      <td>...</td>\n",
       "      <td>...</td>\n",
       "      <td>...</td>\n",
       "      <td>...</td>\n",
       "      <td>...</td>\n",
       "      <td>...</td>\n",
       "      <td>...</td>\n",
       "      <td>...</td>\n",
       "      <td>...</td>\n",
       "      <td>...</td>\n",
       "      <td>...</td>\n",
       "    </tr>\n",
       "    <tr>\n",
       "      <th>3542</th>\n",
       "      <td>10</td>\n",
       "      <td>card</td>\n",
       "      <td>35.76</td>\n",
       "      <td>Cappuccino</td>\n",
       "      <td>Morning</td>\n",
       "      <td>Sun</td>\n",
       "      <td>Mar</td>\n",
       "      <td>7</td>\n",
       "      <td>3</td>\n",
       "      <td>2025-03-23</td>\n",
       "      <td>10:34:54.894000</td>\n",
       "    </tr>\n",
       "    <tr>\n",
       "      <th>3543</th>\n",
       "      <td>14</td>\n",
       "      <td>card</td>\n",
       "      <td>35.76</td>\n",
       "      <td>Cocoa</td>\n",
       "      <td>Afternoon</td>\n",
       "      <td>Sun</td>\n",
       "      <td>Mar</td>\n",
       "      <td>7</td>\n",
       "      <td>3</td>\n",
       "      <td>2025-03-23</td>\n",
       "      <td>14:43:37.362000</td>\n",
       "    </tr>\n",
       "    <tr>\n",
       "      <th>3544</th>\n",
       "      <td>14</td>\n",
       "      <td>card</td>\n",
       "      <td>35.76</td>\n",
       "      <td>Cocoa</td>\n",
       "      <td>Afternoon</td>\n",
       "      <td>Sun</td>\n",
       "      <td>Mar</td>\n",
       "      <td>7</td>\n",
       "      <td>3</td>\n",
       "      <td>2025-03-23</td>\n",
       "      <td>14:44:16.864000</td>\n",
       "    </tr>\n",
       "    <tr>\n",
       "      <th>3545</th>\n",
       "      <td>15</td>\n",
       "      <td>card</td>\n",
       "      <td>25.96</td>\n",
       "      <td>Americano</td>\n",
       "      <td>Afternoon</td>\n",
       "      <td>Sun</td>\n",
       "      <td>Mar</td>\n",
       "      <td>7</td>\n",
       "      <td>3</td>\n",
       "      <td>2025-03-23</td>\n",
       "      <td>15:47:28.723000</td>\n",
       "    </tr>\n",
       "    <tr>\n",
       "      <th>3546</th>\n",
       "      <td>18</td>\n",
       "      <td>card</td>\n",
       "      <td>35.76</td>\n",
       "      <td>Latte</td>\n",
       "      <td>Night</td>\n",
       "      <td>Sun</td>\n",
       "      <td>Mar</td>\n",
       "      <td>7</td>\n",
       "      <td>3</td>\n",
       "      <td>2025-03-23</td>\n",
       "      <td>18:11:38.635000</td>\n",
       "    </tr>\n",
       "  </tbody>\n",
       "</table>\n",
       "<p>3547 rows × 11 columns</p>\n",
       "</div>"
      ],
      "text/plain": [
       "      hour_of_day cash_type  money    coffee_name Time_of_Day Weekday  \\\n",
       "0              10      card  38.70          Latte     Morning     Fri   \n",
       "1              12      card  38.70  Hot Chocolate   Afternoon     Fri   \n",
       "2              12      card  38.70  Hot Chocolate   Afternoon     Fri   \n",
       "3              13      card  28.90      Americano   Afternoon     Fri   \n",
       "4              13      card  38.70          Latte   Afternoon     Fri   \n",
       "...           ...       ...    ...            ...         ...     ...   \n",
       "3542           10      card  35.76     Cappuccino     Morning     Sun   \n",
       "3543           14      card  35.76          Cocoa   Afternoon     Sun   \n",
       "3544           14      card  35.76          Cocoa   Afternoon     Sun   \n",
       "3545           15      card  25.96      Americano   Afternoon     Sun   \n",
       "3546           18      card  35.76          Latte       Night     Sun   \n",
       "\n",
       "     Month_name  Weekdaysort  Monthsort        Date             Time  \n",
       "0           Mar            5          3  2024-03-01  10:15:50.520000  \n",
       "1           Mar            5          3  2024-03-01  12:19:22.539000  \n",
       "2           Mar            5          3  2024-03-01  12:20:18.089000  \n",
       "3           Mar            5          3  2024-03-01  13:46:33.006000  \n",
       "4           Mar            5          3  2024-03-01  13:48:14.626000  \n",
       "...         ...          ...        ...         ...              ...  \n",
       "3542        Mar            7          3  2025-03-23  10:34:54.894000  \n",
       "3543        Mar            7          3  2025-03-23  14:43:37.362000  \n",
       "3544        Mar            7          3  2025-03-23  14:44:16.864000  \n",
       "3545        Mar            7          3  2025-03-23  15:47:28.723000  \n",
       "3546        Mar            7          3  2025-03-23  18:11:38.635000  \n",
       "\n",
       "[3547 rows x 11 columns]"
      ]
     },
     "metadata": {},
     "output_type": "display_data"
    }
   ],
   "source": [
    "os.chdir('C:\\\\Users\\dell\\\\projects datasets')\n",
    "dt = pd.read_csv('Coffe_sales.csv')\n",
    "display(dt)"
   ]
  },
  {
   "cell_type": "code",
   "execution_count": 5,
   "id": "a19991d1-8277-4cf6-b575-caf70ecea4c7",
   "metadata": {},
   "outputs": [
    {
     "data": {
      "text/plain": [
       "<bound method NDFrame.describe of       hour_of_day cash_type  money    coffee_name Time_of_Day Weekday  \\\n",
       "0              10      card  38.70          Latte     Morning     Fri   \n",
       "1              12      card  38.70  Hot Chocolate   Afternoon     Fri   \n",
       "2              12      card  38.70  Hot Chocolate   Afternoon     Fri   \n",
       "3              13      card  28.90      Americano   Afternoon     Fri   \n",
       "4              13      card  38.70          Latte   Afternoon     Fri   \n",
       "...           ...       ...    ...            ...         ...     ...   \n",
       "3542           10      card  35.76     Cappuccino     Morning     Sun   \n",
       "3543           14      card  35.76          Cocoa   Afternoon     Sun   \n",
       "3544           14      card  35.76          Cocoa   Afternoon     Sun   \n",
       "3545           15      card  25.96      Americano   Afternoon     Sun   \n",
       "3546           18      card  35.76          Latte       Night     Sun   \n",
       "\n",
       "     Month_name  Weekdaysort  Monthsort        Date             Time  \n",
       "0           Mar            5          3  2024-03-01  10:15:50.520000  \n",
       "1           Mar            5          3  2024-03-01  12:19:22.539000  \n",
       "2           Mar            5          3  2024-03-01  12:20:18.089000  \n",
       "3           Mar            5          3  2024-03-01  13:46:33.006000  \n",
       "4           Mar            5          3  2024-03-01  13:48:14.626000  \n",
       "...         ...          ...        ...         ...              ...  \n",
       "3542        Mar            7          3  2025-03-23  10:34:54.894000  \n",
       "3543        Mar            7          3  2025-03-23  14:43:37.362000  \n",
       "3544        Mar            7          3  2025-03-23  14:44:16.864000  \n",
       "3545        Mar            7          3  2025-03-23  15:47:28.723000  \n",
       "3546        Mar            7          3  2025-03-23  18:11:38.635000  \n",
       "\n",
       "[3547 rows x 11 columns]>"
      ]
     },
     "execution_count": 5,
     "metadata": {},
     "output_type": "execute_result"
    }
   ],
   "source": [
    "dt.describe"
   ]
  },
  {
   "cell_type": "code",
   "execution_count": 7,
   "id": "f9f4c35e-3160-40e7-9334-ead2df3bd30f",
   "metadata": {},
   "outputs": [
    {
     "data": {
      "text/plain": [
       "<bound method DataFrame.info of       hour_of_day cash_type  money    coffee_name Time_of_Day Weekday  \\\n",
       "0              10      card  38.70          Latte     Morning     Fri   \n",
       "1              12      card  38.70  Hot Chocolate   Afternoon     Fri   \n",
       "2              12      card  38.70  Hot Chocolate   Afternoon     Fri   \n",
       "3              13      card  28.90      Americano   Afternoon     Fri   \n",
       "4              13      card  38.70          Latte   Afternoon     Fri   \n",
       "...           ...       ...    ...            ...         ...     ...   \n",
       "3542           10      card  35.76     Cappuccino     Morning     Sun   \n",
       "3543           14      card  35.76          Cocoa   Afternoon     Sun   \n",
       "3544           14      card  35.76          Cocoa   Afternoon     Sun   \n",
       "3545           15      card  25.96      Americano   Afternoon     Sun   \n",
       "3546           18      card  35.76          Latte       Night     Sun   \n",
       "\n",
       "     Month_name  Weekdaysort  Monthsort        Date             Time  \n",
       "0           Mar            5          3  2024-03-01  10:15:50.520000  \n",
       "1           Mar            5          3  2024-03-01  12:19:22.539000  \n",
       "2           Mar            5          3  2024-03-01  12:20:18.089000  \n",
       "3           Mar            5          3  2024-03-01  13:46:33.006000  \n",
       "4           Mar            5          3  2024-03-01  13:48:14.626000  \n",
       "...         ...          ...        ...         ...              ...  \n",
       "3542        Mar            7          3  2025-03-23  10:34:54.894000  \n",
       "3543        Mar            7          3  2025-03-23  14:43:37.362000  \n",
       "3544        Mar            7          3  2025-03-23  14:44:16.864000  \n",
       "3545        Mar            7          3  2025-03-23  15:47:28.723000  \n",
       "3546        Mar            7          3  2025-03-23  18:11:38.635000  \n",
       "\n",
       "[3547 rows x 11 columns]>"
      ]
     },
     "execution_count": 7,
     "metadata": {},
     "output_type": "execute_result"
    }
   ],
   "source": [
    "dt.info"
   ]
  },
  {
   "cell_type": "code",
   "execution_count": 9,
   "id": "3f87b131-a616-4404-82eb-6a48a73fa36f",
   "metadata": {},
   "outputs": [
    {
     "data": {
      "text/plain": [
       "Index(['hour_of_day', 'cash_type', 'money', 'coffee_name', 'Time_of_Day',\n",
       "       'Weekday', 'Month_name', 'Weekdaysort', 'Monthsort', 'Date', 'Time'],\n",
       "      dtype='object')"
      ]
     },
     "execution_count": 9,
     "metadata": {},
     "output_type": "execute_result"
    }
   ],
   "source": [
    "dt.columns"
   ]
  },
  {
   "cell_type": "code",
   "execution_count": 11,
   "id": "2b7de747-c630-49b1-bc1b-955d8a47e924",
   "metadata": {},
   "outputs": [
    {
     "data": {
      "text/plain": [
       "hour_of_day    0\n",
       "cash_type      0\n",
       "money          0\n",
       "coffee_name    0\n",
       "Time_of_Day    0\n",
       "Weekday        0\n",
       "Month_name     0\n",
       "Weekdaysort    0\n",
       "Monthsort      0\n",
       "Date           0\n",
       "Time           0\n",
       "dtype: int64"
      ]
     },
     "execution_count": 11,
     "metadata": {},
     "output_type": "execute_result"
    }
   ],
   "source": [
    "dt.isnull().sum()"
   ]
  },
  {
   "cell_type": "code",
   "execution_count": 13,
   "id": "4d113762-8a2c-4107-a5c6-41cd9a8cc850",
   "metadata": {},
   "outputs": [
    {
     "data": {
      "text/plain": [
       "hour_of_day      int64\n",
       "cash_type       object\n",
       "money          float64\n",
       "coffee_name     object\n",
       "Time_of_Day     object\n",
       "Weekday         object\n",
       "Month_name      object\n",
       "Weekdaysort      int64\n",
       "Monthsort        int64\n",
       "Date            object\n",
       "Time            object\n",
       "dtype: object"
      ]
     },
     "execution_count": 13,
     "metadata": {},
     "output_type": "execute_result"
    }
   ],
   "source": [
    "dt.dtypes"
   ]
  },
  {
   "cell_type": "code",
   "execution_count": 15,
   "id": "b553e42c-470e-434e-b995-e2ffe1dc1540",
   "metadata": {},
   "outputs": [],
   "source": [
    "dt['money'] = dt['money'].round().astype(int)\n"
   ]
  },
  {
   "cell_type": "code",
   "execution_count": 17,
   "id": "8239bed3-e477-498b-93e9-1351a9a7ad7e",
   "metadata": {},
   "outputs": [
    {
     "data": {
      "text/plain": [
       "hour_of_day     int64\n",
       "cash_type      object\n",
       "money           int32\n",
       "coffee_name    object\n",
       "Time_of_Day    object\n",
       "Weekday        object\n",
       "Month_name     object\n",
       "Weekdaysort     int64\n",
       "Monthsort       int64\n",
       "Date           object\n",
       "Time           object\n",
       "dtype: object"
      ]
     },
     "execution_count": 17,
     "metadata": {},
     "output_type": "execute_result"
    }
   ],
   "source": [
    "dt.dtypes"
   ]
  },
  {
   "cell_type": "code",
   "execution_count": 19,
   "id": "065ba18a-4c43-410c-93a2-2ac70e5a00ad",
   "metadata": {},
   "outputs": [
    {
     "data": {
      "text/plain": [
       "array(['Latte', 'Hot Chocolate', 'Hot Chocolate', ..., 'Cocoa',\n",
       "       'Americano', 'Latte'], dtype=object)"
      ]
     },
     "metadata": {},
     "output_type": "display_data"
    }
   ],
   "source": [
    "y= dt['coffee_name'].values\n",
    "display (y)"
   ]
  },
  {
   "cell_type": "code",
   "execution_count": 21,
   "id": "41e65597-34e2-4aec-97b4-b5423a06c1b8",
   "metadata": {},
   "outputs": [
    {
     "data": {
      "text/plain": [
       "array([7, 6, 6, ..., 3, 0, 7])"
      ]
     },
     "execution_count": 21,
     "metadata": {},
     "output_type": "execute_result"
    }
   ],
   "source": [
    "from sklearn .preprocessing import LabelEncoder\n",
    "lb = LabelEncoder ()\n",
    "y= lb.fit_transform(y)\n",
    "y"
   ]
  },
  {
   "cell_type": "code",
   "execution_count": 23,
   "id": "678235f3-925d-4735-8be8-8496385e7b68",
   "metadata": {},
   "outputs": [
    {
     "data": {
      "text/plain": [
       "array([[7],\n",
       "       [6],\n",
       "       [6],\n",
       "       ...,\n",
       "       [3],\n",
       "       [0],\n",
       "       [7]])"
      ]
     },
     "execution_count": 23,
     "metadata": {},
     "output_type": "execute_result"
    }
   ],
   "source": [
    "pd.DataFrame(y).values"
   ]
  },
  {
   "cell_type": "code",
   "execution_count": 51,
   "id": "e05aee21-774b-4ed3-a0db-e13485cca7fb",
   "metadata": {},
   "outputs": [
    {
     "data": {
      "text/html": [
       "<div>\n",
       "<style scoped>\n",
       "    .dataframe tbody tr th:only-of-type {\n",
       "        vertical-align: middle;\n",
       "    }\n",
       "\n",
       "    .dataframe tbody tr th {\n",
       "        vertical-align: top;\n",
       "    }\n",
       "\n",
       "    .dataframe thead th {\n",
       "        text-align: right;\n",
       "    }\n",
       "</style>\n",
       "<table border=\"1\" class=\"dataframe\">\n",
       "  <thead>\n",
       "    <tr style=\"text-align: right;\">\n",
       "      <th></th>\n",
       "      <th>money</th>\n",
       "      <th>hour_of_day</th>\n",
       "    </tr>\n",
       "  </thead>\n",
       "  <tbody>\n",
       "    <tr>\n",
       "      <th>0</th>\n",
       "      <td>39</td>\n",
       "      <td>10</td>\n",
       "    </tr>\n",
       "    <tr>\n",
       "      <th>1</th>\n",
       "      <td>39</td>\n",
       "      <td>12</td>\n",
       "    </tr>\n",
       "    <tr>\n",
       "      <th>2</th>\n",
       "      <td>39</td>\n",
       "      <td>12</td>\n",
       "    </tr>\n",
       "    <tr>\n",
       "      <th>3</th>\n",
       "      <td>29</td>\n",
       "      <td>13</td>\n",
       "    </tr>\n",
       "    <tr>\n",
       "      <th>4</th>\n",
       "      <td>39</td>\n",
       "      <td>13</td>\n",
       "    </tr>\n",
       "    <tr>\n",
       "      <th>...</th>\n",
       "      <td>...</td>\n",
       "      <td>...</td>\n",
       "    </tr>\n",
       "    <tr>\n",
       "      <th>3542</th>\n",
       "      <td>36</td>\n",
       "      <td>10</td>\n",
       "    </tr>\n",
       "    <tr>\n",
       "      <th>3543</th>\n",
       "      <td>36</td>\n",
       "      <td>14</td>\n",
       "    </tr>\n",
       "    <tr>\n",
       "      <th>3544</th>\n",
       "      <td>36</td>\n",
       "      <td>14</td>\n",
       "    </tr>\n",
       "    <tr>\n",
       "      <th>3545</th>\n",
       "      <td>26</td>\n",
       "      <td>15</td>\n",
       "    </tr>\n",
       "    <tr>\n",
       "      <th>3546</th>\n",
       "      <td>36</td>\n",
       "      <td>18</td>\n",
       "    </tr>\n",
       "  </tbody>\n",
       "</table>\n",
       "<p>3547 rows × 2 columns</p>\n",
       "</div>"
      ],
      "text/plain": [
       "      money  hour_of_day\n",
       "0        39           10\n",
       "1        39           12\n",
       "2        39           12\n",
       "3        29           13\n",
       "4        39           13\n",
       "...     ...          ...\n",
       "3542     36           10\n",
       "3543     36           14\n",
       "3544     36           14\n",
       "3545     26           15\n",
       "3546     36           18\n",
       "\n",
       "[3547 rows x 2 columns]"
      ]
     },
     "execution_count": 51,
     "metadata": {},
     "output_type": "execute_result"
    }
   ],
   "source": [
    "new = dt[['money','hour_of_day']]\n",
    "new"
   ]
  },
  {
   "cell_type": "code",
   "execution_count": 55,
   "id": "4a12a30d-4953-40ee-8c97-ba0b6a434668",
   "metadata": {},
   "outputs": [
    {
     "data": {
      "text/html": [
       "<div>\n",
       "<style scoped>\n",
       "    .dataframe tbody tr th:only-of-type {\n",
       "        vertical-align: middle;\n",
       "    }\n",
       "\n",
       "    .dataframe tbody tr th {\n",
       "        vertical-align: top;\n",
       "    }\n",
       "\n",
       "    .dataframe thead th {\n",
       "        text-align: right;\n",
       "    }\n",
       "</style>\n",
       "<table border=\"1\" class=\"dataframe\">\n",
       "  <thead>\n",
       "    <tr style=\"text-align: right;\">\n",
       "      <th></th>\n",
       "      <th>cash_type_enc</th>\n",
       "      <th>Time_of_Day_enc</th>\n",
       "      <th>Month_name_enc</th>\n",
       "    </tr>\n",
       "  </thead>\n",
       "  <tbody>\n",
       "    <tr>\n",
       "      <th>0</th>\n",
       "      <td>0</td>\n",
       "      <td>1</td>\n",
       "      <td>7</td>\n",
       "    </tr>\n",
       "    <tr>\n",
       "      <th>1</th>\n",
       "      <td>0</td>\n",
       "      <td>0</td>\n",
       "      <td>7</td>\n",
       "    </tr>\n",
       "    <tr>\n",
       "      <th>2</th>\n",
       "      <td>0</td>\n",
       "      <td>0</td>\n",
       "      <td>7</td>\n",
       "    </tr>\n",
       "    <tr>\n",
       "      <th>3</th>\n",
       "      <td>0</td>\n",
       "      <td>0</td>\n",
       "      <td>7</td>\n",
       "    </tr>\n",
       "    <tr>\n",
       "      <th>4</th>\n",
       "      <td>0</td>\n",
       "      <td>0</td>\n",
       "      <td>7</td>\n",
       "    </tr>\n",
       "    <tr>\n",
       "      <th>...</th>\n",
       "      <td>...</td>\n",
       "      <td>...</td>\n",
       "      <td>...</td>\n",
       "    </tr>\n",
       "    <tr>\n",
       "      <th>3542</th>\n",
       "      <td>0</td>\n",
       "      <td>1</td>\n",
       "      <td>7</td>\n",
       "    </tr>\n",
       "    <tr>\n",
       "      <th>3543</th>\n",
       "      <td>0</td>\n",
       "      <td>0</td>\n",
       "      <td>7</td>\n",
       "    </tr>\n",
       "    <tr>\n",
       "      <th>3544</th>\n",
       "      <td>0</td>\n",
       "      <td>0</td>\n",
       "      <td>7</td>\n",
       "    </tr>\n",
       "    <tr>\n",
       "      <th>3545</th>\n",
       "      <td>0</td>\n",
       "      <td>0</td>\n",
       "      <td>7</td>\n",
       "    </tr>\n",
       "    <tr>\n",
       "      <th>3546</th>\n",
       "      <td>0</td>\n",
       "      <td>2</td>\n",
       "      <td>7</td>\n",
       "    </tr>\n",
       "  </tbody>\n",
       "</table>\n",
       "<p>3547 rows × 3 columns</p>\n",
       "</div>"
      ],
      "text/plain": [
       "      cash_type_enc  Time_of_Day_enc  Month_name_enc\n",
       "0                 0                1               7\n",
       "1                 0                0               7\n",
       "2                 0                0               7\n",
       "3                 0                0               7\n",
       "4                 0                0               7\n",
       "...             ...              ...             ...\n",
       "3542              0                1               7\n",
       "3543              0                0               7\n",
       "3544              0                0               7\n",
       "3545              0                0               7\n",
       "3546              0                2               7\n",
       "\n",
       "[3547 rows x 3 columns]"
      ]
     },
     "execution_count": 55,
     "metadata": {},
     "output_type": "execute_result"
    }
   ],
   "source": [
    "for col in ['cash_type', 'Time_of_Day', 'Month_name']:\n",
    "    dt[col + '_enc'] = LabelEncoder().fit_transform(dt[col])\n",
    "\n",
    "catdf= dt[['cash_type_enc', 'Time_of_Day_enc', 'Month_name_enc']]\n",
    "catdf\n"
   ]
  },
  {
   "cell_type": "code",
   "execution_count": 61,
   "id": "b495e82e-df7b-433f-9971-4c29a21d456b",
   "metadata": {},
   "outputs": [
    {
     "data": {
      "text/plain": [
       "array([[39, 10,  0,  1,  7],\n",
       "       [39, 12,  0,  0,  7],\n",
       "       [39, 12,  0,  0,  7],\n",
       "       ...,\n",
       "       [36, 14,  0,  0,  7],\n",
       "       [26, 15,  0,  0,  7],\n",
       "       [36, 18,  0,  2,  7]], dtype=int64)"
      ]
     },
     "execution_count": 61,
     "metadata": {},
     "output_type": "execute_result"
    }
   ],
   "source": [
    "X =pd. concat([new, catdf], axis = 1).values\n",
    "X"
   ]
  },
  {
   "cell_type": "code",
   "execution_count": 69,
   "id": "0f07050a-698f-4cb4-9508-072289fb98c3",
   "metadata": {},
   "outputs": [
    {
     "data": {
      "text/plain": [
       "array([7, 6, 6, ..., 3, 0, 7])"
      ]
     },
     "execution_count": 69,
     "metadata": {},
     "output_type": "execute_result"
    }
   ],
   "source": [
    "y"
   ]
  },
  {
   "cell_type": "code",
   "execution_count": 75,
   "id": "d7848376-140d-4c59-aadb-4218429edf86",
   "metadata": {},
   "outputs": [
    {
     "name": "stdout",
     "output_type": "stream",
     "text": [
      "(2837, 5)\n",
      "(710, 5)\n",
      "(2837,)\n",
      "(710,)\n",
      "(3547, 5)\n",
      "(3547,)\n"
     ]
    }
   ],
   "source": [
    "from sklearn.model_selection import train_test_split\n",
    "x_train,x_test,y_train,y_test =  train_test_split(X ,y ,test_size=0.2 ,random_state=0)\n",
    "print(x_train.shape)\n",
    "print(x_test.shape)\n",
    "print(y_train.shape)\n",
    "print(y_test.shape)\n",
    "print(X.shape)\n",
    "print(y.shape)"
   ]
  },
  {
   "cell_type": "code",
   "execution_count": 88,
   "id": "73833245-a01e-4134-9a32-a87f2fc3ad81",
   "metadata": {},
   "outputs": [
    {
     "data": {
      "text/html": [
       "<style>#sk-container-id-3 {\n",
       "  /* Definition of color scheme common for light and dark mode */\n",
       "  --sklearn-color-text: black;\n",
       "  --sklearn-color-line: gray;\n",
       "  /* Definition of color scheme for unfitted estimators */\n",
       "  --sklearn-color-unfitted-level-0: #fff5e6;\n",
       "  --sklearn-color-unfitted-level-1: #f6e4d2;\n",
       "  --sklearn-color-unfitted-level-2: #ffe0b3;\n",
       "  --sklearn-color-unfitted-level-3: chocolate;\n",
       "  /* Definition of color scheme for fitted estimators */\n",
       "  --sklearn-color-fitted-level-0: #f0f8ff;\n",
       "  --sklearn-color-fitted-level-1: #d4ebff;\n",
       "  --sklearn-color-fitted-level-2: #b3dbfd;\n",
       "  --sklearn-color-fitted-level-3: cornflowerblue;\n",
       "\n",
       "  /* Specific color for light theme */\n",
       "  --sklearn-color-text-on-default-background: var(--sg-text-color, var(--theme-code-foreground, var(--jp-content-font-color1, black)));\n",
       "  --sklearn-color-background: var(--sg-background-color, var(--theme-background, var(--jp-layout-color0, white)));\n",
       "  --sklearn-color-border-box: var(--sg-text-color, var(--theme-code-foreground, var(--jp-content-font-color1, black)));\n",
       "  --sklearn-color-icon: #696969;\n",
       "\n",
       "  @media (prefers-color-scheme: dark) {\n",
       "    /* Redefinition of color scheme for dark theme */\n",
       "    --sklearn-color-text-on-default-background: var(--sg-text-color, var(--theme-code-foreground, var(--jp-content-font-color1, white)));\n",
       "    --sklearn-color-background: var(--sg-background-color, var(--theme-background, var(--jp-layout-color0, #111)));\n",
       "    --sklearn-color-border-box: var(--sg-text-color, var(--theme-code-foreground, var(--jp-content-font-color1, white)));\n",
       "    --sklearn-color-icon: #878787;\n",
       "  }\n",
       "}\n",
       "\n",
       "#sk-container-id-3 {\n",
       "  color: var(--sklearn-color-text);\n",
       "}\n",
       "\n",
       "#sk-container-id-3 pre {\n",
       "  padding: 0;\n",
       "}\n",
       "\n",
       "#sk-container-id-3 input.sk-hidden--visually {\n",
       "  border: 0;\n",
       "  clip: rect(1px 1px 1px 1px);\n",
       "  clip: rect(1px, 1px, 1px, 1px);\n",
       "  height: 1px;\n",
       "  margin: -1px;\n",
       "  overflow: hidden;\n",
       "  padding: 0;\n",
       "  position: absolute;\n",
       "  width: 1px;\n",
       "}\n",
       "\n",
       "#sk-container-id-3 div.sk-dashed-wrapped {\n",
       "  border: 1px dashed var(--sklearn-color-line);\n",
       "  margin: 0 0.4em 0.5em 0.4em;\n",
       "  box-sizing: border-box;\n",
       "  padding-bottom: 0.4em;\n",
       "  background-color: var(--sklearn-color-background);\n",
       "}\n",
       "\n",
       "#sk-container-id-3 div.sk-container {\n",
       "  /* jupyter's `normalize.less` sets `[hidden] { display: none; }`\n",
       "     but bootstrap.min.css set `[hidden] { display: none !important; }`\n",
       "     so we also need the `!important` here to be able to override the\n",
       "     default hidden behavior on the sphinx rendered scikit-learn.org.\n",
       "     See: https://github.com/scikit-learn/scikit-learn/issues/21755 */\n",
       "  display: inline-block !important;\n",
       "  position: relative;\n",
       "}\n",
       "\n",
       "#sk-container-id-3 div.sk-text-repr-fallback {\n",
       "  display: none;\n",
       "}\n",
       "\n",
       "div.sk-parallel-item,\n",
       "div.sk-serial,\n",
       "div.sk-item {\n",
       "  /* draw centered vertical line to link estimators */\n",
       "  background-image: linear-gradient(var(--sklearn-color-text-on-default-background), var(--sklearn-color-text-on-default-background));\n",
       "  background-size: 2px 100%;\n",
       "  background-repeat: no-repeat;\n",
       "  background-position: center center;\n",
       "}\n",
       "\n",
       "/* Parallel-specific style estimator block */\n",
       "\n",
       "#sk-container-id-3 div.sk-parallel-item::after {\n",
       "  content: \"\";\n",
       "  width: 100%;\n",
       "  border-bottom: 2px solid var(--sklearn-color-text-on-default-background);\n",
       "  flex-grow: 1;\n",
       "}\n",
       "\n",
       "#sk-container-id-3 div.sk-parallel {\n",
       "  display: flex;\n",
       "  align-items: stretch;\n",
       "  justify-content: center;\n",
       "  background-color: var(--sklearn-color-background);\n",
       "  position: relative;\n",
       "}\n",
       "\n",
       "#sk-container-id-3 div.sk-parallel-item {\n",
       "  display: flex;\n",
       "  flex-direction: column;\n",
       "}\n",
       "\n",
       "#sk-container-id-3 div.sk-parallel-item:first-child::after {\n",
       "  align-self: flex-end;\n",
       "  width: 50%;\n",
       "}\n",
       "\n",
       "#sk-container-id-3 div.sk-parallel-item:last-child::after {\n",
       "  align-self: flex-start;\n",
       "  width: 50%;\n",
       "}\n",
       "\n",
       "#sk-container-id-3 div.sk-parallel-item:only-child::after {\n",
       "  width: 0;\n",
       "}\n",
       "\n",
       "/* Serial-specific style estimator block */\n",
       "\n",
       "#sk-container-id-3 div.sk-serial {\n",
       "  display: flex;\n",
       "  flex-direction: column;\n",
       "  align-items: center;\n",
       "  background-color: var(--sklearn-color-background);\n",
       "  padding-right: 1em;\n",
       "  padding-left: 1em;\n",
       "}\n",
       "\n",
       "\n",
       "/* Toggleable style: style used for estimator/Pipeline/ColumnTransformer box that is\n",
       "clickable and can be expanded/collapsed.\n",
       "- Pipeline and ColumnTransformer use this feature and define the default style\n",
       "- Estimators will overwrite some part of the style using the `sk-estimator` class\n",
       "*/\n",
       "\n",
       "/* Pipeline and ColumnTransformer style (default) */\n",
       "\n",
       "#sk-container-id-3 div.sk-toggleable {\n",
       "  /* Default theme specific background. It is overwritten whether we have a\n",
       "  specific estimator or a Pipeline/ColumnTransformer */\n",
       "  background-color: var(--sklearn-color-background);\n",
       "}\n",
       "\n",
       "/* Toggleable label */\n",
       "#sk-container-id-3 label.sk-toggleable__label {\n",
       "  cursor: pointer;\n",
       "  display: block;\n",
       "  width: 100%;\n",
       "  margin-bottom: 0;\n",
       "  padding: 0.5em;\n",
       "  box-sizing: border-box;\n",
       "  text-align: center;\n",
       "}\n",
       "\n",
       "#sk-container-id-3 label.sk-toggleable__label-arrow:before {\n",
       "  /* Arrow on the left of the label */\n",
       "  content: \"▸\";\n",
       "  float: left;\n",
       "  margin-right: 0.25em;\n",
       "  color: var(--sklearn-color-icon);\n",
       "}\n",
       "\n",
       "#sk-container-id-3 label.sk-toggleable__label-arrow:hover:before {\n",
       "  color: var(--sklearn-color-text);\n",
       "}\n",
       "\n",
       "/* Toggleable content - dropdown */\n",
       "\n",
       "#sk-container-id-3 div.sk-toggleable__content {\n",
       "  max-height: 0;\n",
       "  max-width: 0;\n",
       "  overflow: hidden;\n",
       "  text-align: left;\n",
       "  /* unfitted */\n",
       "  background-color: var(--sklearn-color-unfitted-level-0);\n",
       "}\n",
       "\n",
       "#sk-container-id-3 div.sk-toggleable__content.fitted {\n",
       "  /* fitted */\n",
       "  background-color: var(--sklearn-color-fitted-level-0);\n",
       "}\n",
       "\n",
       "#sk-container-id-3 div.sk-toggleable__content pre {\n",
       "  margin: 0.2em;\n",
       "  border-radius: 0.25em;\n",
       "  color: var(--sklearn-color-text);\n",
       "  /* unfitted */\n",
       "  background-color: var(--sklearn-color-unfitted-level-0);\n",
       "}\n",
       "\n",
       "#sk-container-id-3 div.sk-toggleable__content.fitted pre {\n",
       "  /* unfitted */\n",
       "  background-color: var(--sklearn-color-fitted-level-0);\n",
       "}\n",
       "\n",
       "#sk-container-id-3 input.sk-toggleable__control:checked~div.sk-toggleable__content {\n",
       "  /* Expand drop-down */\n",
       "  max-height: 200px;\n",
       "  max-width: 100%;\n",
       "  overflow: auto;\n",
       "}\n",
       "\n",
       "#sk-container-id-3 input.sk-toggleable__control:checked~label.sk-toggleable__label-arrow:before {\n",
       "  content: \"▾\";\n",
       "}\n",
       "\n",
       "/* Pipeline/ColumnTransformer-specific style */\n",
       "\n",
       "#sk-container-id-3 div.sk-label input.sk-toggleable__control:checked~label.sk-toggleable__label {\n",
       "  color: var(--sklearn-color-text);\n",
       "  background-color: var(--sklearn-color-unfitted-level-2);\n",
       "}\n",
       "\n",
       "#sk-container-id-3 div.sk-label.fitted input.sk-toggleable__control:checked~label.sk-toggleable__label {\n",
       "  background-color: var(--sklearn-color-fitted-level-2);\n",
       "}\n",
       "\n",
       "/* Estimator-specific style */\n",
       "\n",
       "/* Colorize estimator box */\n",
       "#sk-container-id-3 div.sk-estimator input.sk-toggleable__control:checked~label.sk-toggleable__label {\n",
       "  /* unfitted */\n",
       "  background-color: var(--sklearn-color-unfitted-level-2);\n",
       "}\n",
       "\n",
       "#sk-container-id-3 div.sk-estimator.fitted input.sk-toggleable__control:checked~label.sk-toggleable__label {\n",
       "  /* fitted */\n",
       "  background-color: var(--sklearn-color-fitted-level-2);\n",
       "}\n",
       "\n",
       "#sk-container-id-3 div.sk-label label.sk-toggleable__label,\n",
       "#sk-container-id-3 div.sk-label label {\n",
       "  /* The background is the default theme color */\n",
       "  color: var(--sklearn-color-text-on-default-background);\n",
       "}\n",
       "\n",
       "/* On hover, darken the color of the background */\n",
       "#sk-container-id-3 div.sk-label:hover label.sk-toggleable__label {\n",
       "  color: var(--sklearn-color-text);\n",
       "  background-color: var(--sklearn-color-unfitted-level-2);\n",
       "}\n",
       "\n",
       "/* Label box, darken color on hover, fitted */\n",
       "#sk-container-id-3 div.sk-label.fitted:hover label.sk-toggleable__label.fitted {\n",
       "  color: var(--sklearn-color-text);\n",
       "  background-color: var(--sklearn-color-fitted-level-2);\n",
       "}\n",
       "\n",
       "/* Estimator label */\n",
       "\n",
       "#sk-container-id-3 div.sk-label label {\n",
       "  font-family: monospace;\n",
       "  font-weight: bold;\n",
       "  display: inline-block;\n",
       "  line-height: 1.2em;\n",
       "}\n",
       "\n",
       "#sk-container-id-3 div.sk-label-container {\n",
       "  text-align: center;\n",
       "}\n",
       "\n",
       "/* Estimator-specific */\n",
       "#sk-container-id-3 div.sk-estimator {\n",
       "  font-family: monospace;\n",
       "  border: 1px dotted var(--sklearn-color-border-box);\n",
       "  border-radius: 0.25em;\n",
       "  box-sizing: border-box;\n",
       "  margin-bottom: 0.5em;\n",
       "  /* unfitted */\n",
       "  background-color: var(--sklearn-color-unfitted-level-0);\n",
       "}\n",
       "\n",
       "#sk-container-id-3 div.sk-estimator.fitted {\n",
       "  /* fitted */\n",
       "  background-color: var(--sklearn-color-fitted-level-0);\n",
       "}\n",
       "\n",
       "/* on hover */\n",
       "#sk-container-id-3 div.sk-estimator:hover {\n",
       "  /* unfitted */\n",
       "  background-color: var(--sklearn-color-unfitted-level-2);\n",
       "}\n",
       "\n",
       "#sk-container-id-3 div.sk-estimator.fitted:hover {\n",
       "  /* fitted */\n",
       "  background-color: var(--sklearn-color-fitted-level-2);\n",
       "}\n",
       "\n",
       "/* Specification for estimator info (e.g. \"i\" and \"?\") */\n",
       "\n",
       "/* Common style for \"i\" and \"?\" */\n",
       "\n",
       ".sk-estimator-doc-link,\n",
       "a:link.sk-estimator-doc-link,\n",
       "a:visited.sk-estimator-doc-link {\n",
       "  float: right;\n",
       "  font-size: smaller;\n",
       "  line-height: 1em;\n",
       "  font-family: monospace;\n",
       "  background-color: var(--sklearn-color-background);\n",
       "  border-radius: 1em;\n",
       "  height: 1em;\n",
       "  width: 1em;\n",
       "  text-decoration: none !important;\n",
       "  margin-left: 1ex;\n",
       "  /* unfitted */\n",
       "  border: var(--sklearn-color-unfitted-level-1) 1pt solid;\n",
       "  color: var(--sklearn-color-unfitted-level-1);\n",
       "}\n",
       "\n",
       ".sk-estimator-doc-link.fitted,\n",
       "a:link.sk-estimator-doc-link.fitted,\n",
       "a:visited.sk-estimator-doc-link.fitted {\n",
       "  /* fitted */\n",
       "  border: var(--sklearn-color-fitted-level-1) 1pt solid;\n",
       "  color: var(--sklearn-color-fitted-level-1);\n",
       "}\n",
       "\n",
       "/* On hover */\n",
       "div.sk-estimator:hover .sk-estimator-doc-link:hover,\n",
       ".sk-estimator-doc-link:hover,\n",
       "div.sk-label-container:hover .sk-estimator-doc-link:hover,\n",
       ".sk-estimator-doc-link:hover {\n",
       "  /* unfitted */\n",
       "  background-color: var(--sklearn-color-unfitted-level-3);\n",
       "  color: var(--sklearn-color-background);\n",
       "  text-decoration: none;\n",
       "}\n",
       "\n",
       "div.sk-estimator.fitted:hover .sk-estimator-doc-link.fitted:hover,\n",
       ".sk-estimator-doc-link.fitted:hover,\n",
       "div.sk-label-container:hover .sk-estimator-doc-link.fitted:hover,\n",
       ".sk-estimator-doc-link.fitted:hover {\n",
       "  /* fitted */\n",
       "  background-color: var(--sklearn-color-fitted-level-3);\n",
       "  color: var(--sklearn-color-background);\n",
       "  text-decoration: none;\n",
       "}\n",
       "\n",
       "/* Span, style for the box shown on hovering the info icon */\n",
       ".sk-estimator-doc-link span {\n",
       "  display: none;\n",
       "  z-index: 9999;\n",
       "  position: relative;\n",
       "  font-weight: normal;\n",
       "  right: .2ex;\n",
       "  padding: .5ex;\n",
       "  margin: .5ex;\n",
       "  width: min-content;\n",
       "  min-width: 20ex;\n",
       "  max-width: 50ex;\n",
       "  color: var(--sklearn-color-text);\n",
       "  box-shadow: 2pt 2pt 4pt #999;\n",
       "  /* unfitted */\n",
       "  background: var(--sklearn-color-unfitted-level-0);\n",
       "  border: .5pt solid var(--sklearn-color-unfitted-level-3);\n",
       "}\n",
       "\n",
       ".sk-estimator-doc-link.fitted span {\n",
       "  /* fitted */\n",
       "  background: var(--sklearn-color-fitted-level-0);\n",
       "  border: var(--sklearn-color-fitted-level-3);\n",
       "}\n",
       "\n",
       ".sk-estimator-doc-link:hover span {\n",
       "  display: block;\n",
       "}\n",
       "\n",
       "/* \"?\"-specific style due to the `<a>` HTML tag */\n",
       "\n",
       "#sk-container-id-3 a.estimator_doc_link {\n",
       "  float: right;\n",
       "  font-size: 1rem;\n",
       "  line-height: 1em;\n",
       "  font-family: monospace;\n",
       "  background-color: var(--sklearn-color-background);\n",
       "  border-radius: 1rem;\n",
       "  height: 1rem;\n",
       "  width: 1rem;\n",
       "  text-decoration: none;\n",
       "  /* unfitted */\n",
       "  color: var(--sklearn-color-unfitted-level-1);\n",
       "  border: var(--sklearn-color-unfitted-level-1) 1pt solid;\n",
       "}\n",
       "\n",
       "#sk-container-id-3 a.estimator_doc_link.fitted {\n",
       "  /* fitted */\n",
       "  border: var(--sklearn-color-fitted-level-1) 1pt solid;\n",
       "  color: var(--sklearn-color-fitted-level-1);\n",
       "}\n",
       "\n",
       "/* On hover */\n",
       "#sk-container-id-3 a.estimator_doc_link:hover {\n",
       "  /* unfitted */\n",
       "  background-color: var(--sklearn-color-unfitted-level-3);\n",
       "  color: var(--sklearn-color-background);\n",
       "  text-decoration: none;\n",
       "}\n",
       "\n",
       "#sk-container-id-3 a.estimator_doc_link.fitted:hover {\n",
       "  /* fitted */\n",
       "  background-color: var(--sklearn-color-fitted-level-3);\n",
       "}\n",
       "</style><div id=\"sk-container-id-3\" class=\"sk-top-container\"><div class=\"sk-text-repr-fallback\"><pre>RandomForestClassifier()</pre><b>In a Jupyter environment, please rerun this cell to show the HTML representation or trust the notebook. <br />On GitHub, the HTML representation is unable to render, please try loading this page with nbviewer.org.</b></div><div class=\"sk-container\" hidden><div class=\"sk-item\"><div class=\"sk-estimator fitted sk-toggleable\"><input class=\"sk-toggleable__control sk-hidden--visually\" id=\"sk-estimator-id-3\" type=\"checkbox\" checked><label for=\"sk-estimator-id-3\" class=\"sk-toggleable__label fitted sk-toggleable__label-arrow fitted\">&nbsp;&nbsp;RandomForestClassifier<a class=\"sk-estimator-doc-link fitted\" rel=\"noreferrer\" target=\"_blank\" href=\"https://scikit-learn.org/1.5/modules/generated/sklearn.ensemble.RandomForestClassifier.html\">?<span>Documentation for RandomForestClassifier</span></a><span class=\"sk-estimator-doc-link fitted\">i<span>Fitted</span></span></label><div class=\"sk-toggleable__content fitted\"><pre>RandomForestClassifier()</pre></div> </div></div></div></div>"
      ],
      "text/plain": [
       "RandomForestClassifier()"
      ]
     },
     "execution_count": 88,
     "metadata": {},
     "output_type": "execute_result"
    }
   ],
   "source": [
    "from sklearn.ensemble import RandomForestClassifier\n",
    "rfc = RandomForestClassifier (n_estimators=100 , criterion= 'gini')\n",
    "rfc.fit(x_train , y_train)\n"
   ]
  },
  {
   "cell_type": "code",
   "execution_count": 92,
   "id": "6bb16bda-4243-48fa-ae31-d41aeb7445c4",
   "metadata": {},
   "outputs": [
    {
     "data": {
      "text/plain": [
       "array([7, 6, 6, ..., 3, 0, 7])"
      ]
     },
     "execution_count": 92,
     "metadata": {},
     "output_type": "execute_result"
    }
   ],
   "source": [
    "y"
   ]
  },
  {
   "cell_type": "code",
   "execution_count": 94,
   "id": "828c2387-576c-4665-8377-de8cef7f76d8",
   "metadata": {},
   "outputs": [
    {
     "data": {
      "text/plain": [
       "array([[7, 6, 6, ..., 3, 0, 7]])"
      ]
     },
     "execution_count": 94,
     "metadata": {},
     "output_type": "execute_result"
    }
   ],
   "source": [
    "y.reshape(1,-1)"
   ]
  },
  {
   "cell_type": "code",
   "execution_count": 98,
   "id": "da3adf5a-c203-4ba4-b16c-3438540b11e2",
   "metadata": {},
   "outputs": [
    {
     "data": {
      "text/plain": [
       "array([2, 1, 1, 6, 7, 4, 2, 1, 3, 7, 0, 0, 2, 2, 6, 7, 3, 1, 2, 7, 6, 6,\n",
       "       1, 1, 0, 0, 7, 4, 0, 6, 6, 7, 0, 0, 1, 7, 0, 1, 4, 4, 2, 2, 1, 3,\n",
       "       1, 2, 2, 0, 7, 2, 7, 0, 4, 6, 1, 7, 5, 0, 5, 1, 7, 7, 1, 7, 6, 6,\n",
       "       0, 1, 3, 4, 0, 1, 7, 7, 7, 6, 4, 1, 6, 7, 7, 1, 0, 6, 2, 4, 7, 4,\n",
       "       1, 1, 7, 3, 1, 2, 0, 1, 2, 1, 6, 6, 3, 0, 1, 3, 5, 0, 0, 1, 6, 6,\n",
       "       5, 1, 0, 2, 7, 7, 0, 2, 3, 6, 7, 2, 2, 7, 7, 5, 7, 6, 7, 0, 7, 2,\n",
       "       2, 1, 1, 7, 1, 7, 0, 7, 2, 4, 7, 4, 4, 3, 3, 2, 0, 4, 1, 4, 1, 1,\n",
       "       1, 6, 0, 4, 7, 1, 2, 1, 0, 6, 2, 1, 2, 1, 1, 1, 0, 4, 2, 1, 1, 1,\n",
       "       7, 7, 7, 7, 7, 2, 1, 7, 1, 0, 0, 1, 7, 1, 0, 3, 2, 0, 0, 3, 1, 4,\n",
       "       1, 2, 7, 2, 2, 7, 0, 6, 7, 1, 1, 0, 6, 1, 0, 7, 0, 4, 0, 0, 1, 4,\n",
       "       7, 7, 7, 1, 1, 5, 7, 4, 1, 2, 4, 2, 7, 7, 1, 4, 0, 4, 0, 7, 1, 1,\n",
       "       1, 2, 3, 1, 2, 2, 0, 4, 1, 7, 1, 6, 1, 1, 7, 0, 0, 7, 2, 2, 2, 4,\n",
       "       4, 2, 3, 1, 2, 6, 2, 4, 1, 7, 1, 2, 2, 0, 2, 4, 0, 7, 7, 0, 1, 7,\n",
       "       6, 7, 2, 2, 2, 1, 1, 6, 6, 4, 7, 1, 0, 4, 0, 2, 6, 7, 1, 2, 1, 0,\n",
       "       1, 0, 7, 1, 6, 7, 6, 7, 5, 7, 7, 2, 7, 1, 6, 1, 7, 0, 4, 2, 3, 7,\n",
       "       3, 6, 7, 3, 4, 2, 6, 7, 2, 2, 5, 0, 6, 0, 0, 1, 1, 3, 0, 1, 1, 0,\n",
       "       6, 1, 1, 0, 0, 0, 2, 7, 6, 0, 7, 6, 2, 7, 0, 1, 2, 6, 0, 7, 5, 4,\n",
       "       1, 0, 7, 0, 1, 1, 1, 7, 5, 7, 2, 7, 1, 2, 4, 4, 1, 1, 6, 1, 3, 2,\n",
       "       1, 6, 0, 2, 5, 2, 0, 6, 2, 2, 2, 3, 1, 4, 7, 7, 3, 7, 1, 5, 0, 2,\n",
       "       4, 6, 6, 0, 1, 7, 7, 1, 7, 7, 1, 6, 7, 3, 5, 1, 1, 0, 2, 0, 1, 1,\n",
       "       7, 0, 0, 4, 1, 1, 7, 7, 7, 7, 1, 6, 7, 7, 2, 2, 2, 2, 6, 1, 1, 7,\n",
       "       1, 7, 1, 3, 7, 7, 6, 0, 0, 2, 4, 1, 2, 4, 1, 1, 7, 1, 6, 7, 4, 2,\n",
       "       1, 1, 4, 7, 6, 0, 0, 7, 2, 4, 1, 4, 1, 1, 4, 1, 7, 7, 2, 4, 2, 7,\n",
       "       0, 5, 7, 1, 0, 0, 2, 1, 7, 6, 2, 2, 2, 7, 0, 7, 6, 3, 6, 2, 0, 2,\n",
       "       1, 0, 6, 3, 7, 1, 0, 2, 0, 1, 2, 7, 6, 4, 7, 0, 0, 7, 4, 2, 7, 5,\n",
       "       7, 7, 2, 7, 2, 7, 0, 1, 1, 7, 6, 4, 0, 7, 6, 7, 0, 1, 1, 0, 7, 1,\n",
       "       4, 2, 6, 7, 0, 2, 2, 1, 0, 4, 0, 1, 0, 7, 1, 1, 0, 0, 1, 7, 1, 1,\n",
       "       1, 7, 5, 5, 2, 7, 1, 1, 0, 2, 0, 7, 1, 7, 7, 1, 1, 1, 1, 2, 5, 0,\n",
       "       7, 1, 7, 7, 5, 1, 7, 1, 7, 1, 2, 1, 7, 5, 0, 5, 1, 5, 0, 6, 3, 0,\n",
       "       7, 0, 4, 3, 7, 1, 1, 4, 1, 2, 3, 4, 0, 3, 0, 2, 0, 0, 0, 2, 2, 6,\n",
       "       6, 7, 6, 4, 5, 1, 0, 2, 3, 6, 2, 7, 0, 0, 1, 5, 2, 1, 0, 0, 2, 7,\n",
       "       1, 1, 4, 2, 7, 0, 7, 7, 7, 7, 7, 2, 7, 1, 1, 1, 0, 7, 7, 7, 7, 2,\n",
       "       7, 4, 0, 2, 7, 1])"
      ]
     },
     "execution_count": 98,
     "metadata": {},
     "output_type": "execute_result"
    }
   ],
   "source": [
    "y_pred = rfc.predict(x_test)\n",
    "y_pred"
   ]
  },
  {
   "cell_type": "code",
   "execution_count": 120,
   "id": "4290308c-528a-4279-bbbe-ecd191728595",
   "metadata": {},
   "outputs": [
    {
     "name": "stdout",
     "output_type": "stream",
     "text": [
      "   PREDICTION\n",
      "0           2\n",
      "1           1\n",
      "2           1\n",
      "3           6\n",
      "4           7\n"
     ]
    }
   ],
   "source": [
    "df1 = pd.DataFrame(y_pred, columns=['PREDICTION'])\n",
    "print(df1.head())\n"
   ]
  },
  {
   "cell_type": "code",
   "execution_count": 158,
   "id": "424af742-b923-4859-bf54-1d5f7625b09e",
   "metadata": {},
   "outputs": [
    {
     "name": "stdout",
     "output_type": "stream",
     "text": [
      "   ACTUAL\n",
      "0     NaN\n",
      "1     NaN\n",
      "2     NaN\n",
      "3     NaN\n",
      "4     NaN\n"
     ]
    }
   ],
   "source": [
    "y_df = pd.DataFrame(y, columns=['ACTUAL'])\n",
    "print(y_df.head())\n"
   ]
  },
  {
   "cell_type": "code",
   "execution_count": 160,
   "id": "4d1e390a-3dce-4885-833c-7c81137708a0",
   "metadata": {},
   "outputs": [
    {
     "data": {
      "text/html": [
       "<div>\n",
       "<style scoped>\n",
       "    .dataframe tbody tr th:only-of-type {\n",
       "        vertical-align: middle;\n",
       "    }\n",
       "\n",
       "    .dataframe tbody tr th {\n",
       "        vertical-align: top;\n",
       "    }\n",
       "\n",
       "    .dataframe thead th {\n",
       "        text-align: right;\n",
       "    }\n",
       "</style>\n",
       "<table border=\"1\" class=\"dataframe\">\n",
       "  <thead>\n",
       "    <tr style=\"text-align: right;\">\n",
       "      <th></th>\n",
       "      <th>ACTUAL</th>\n",
       "      <th>PREDICTION</th>\n",
       "    </tr>\n",
       "  </thead>\n",
       "  <tbody>\n",
       "    <tr>\n",
       "      <th>0</th>\n",
       "      <td>NaN</td>\n",
       "      <td>2.0</td>\n",
       "    </tr>\n",
       "    <tr>\n",
       "      <th>1</th>\n",
       "      <td>NaN</td>\n",
       "      <td>1.0</td>\n",
       "    </tr>\n",
       "    <tr>\n",
       "      <th>2</th>\n",
       "      <td>NaN</td>\n",
       "      <td>1.0</td>\n",
       "    </tr>\n",
       "    <tr>\n",
       "      <th>3</th>\n",
       "      <td>NaN</td>\n",
       "      <td>6.0</td>\n",
       "    </tr>\n",
       "    <tr>\n",
       "      <th>4</th>\n",
       "      <td>NaN</td>\n",
       "      <td>7.0</td>\n",
       "    </tr>\n",
       "    <tr>\n",
       "      <th>...</th>\n",
       "      <td>...</td>\n",
       "      <td>...</td>\n",
       "    </tr>\n",
       "    <tr>\n",
       "      <th>3542</th>\n",
       "      <td>NaN</td>\n",
       "      <td>NaN</td>\n",
       "    </tr>\n",
       "    <tr>\n",
       "      <th>3543</th>\n",
       "      <td>NaN</td>\n",
       "      <td>NaN</td>\n",
       "    </tr>\n",
       "    <tr>\n",
       "      <th>3544</th>\n",
       "      <td>NaN</td>\n",
       "      <td>NaN</td>\n",
       "    </tr>\n",
       "    <tr>\n",
       "      <th>3545</th>\n",
       "      <td>NaN</td>\n",
       "      <td>NaN</td>\n",
       "    </tr>\n",
       "    <tr>\n",
       "      <th>3546</th>\n",
       "      <td>NaN</td>\n",
       "      <td>NaN</td>\n",
       "    </tr>\n",
       "  </tbody>\n",
       "</table>\n",
       "<p>3547 rows × 2 columns</p>\n",
       "</div>"
      ],
      "text/plain": [
       "      ACTUAL  PREDICTION\n",
       "0        NaN         2.0\n",
       "1        NaN         1.0\n",
       "2        NaN         1.0\n",
       "3        NaN         6.0\n",
       "4        NaN         7.0\n",
       "...      ...         ...\n",
       "3542     NaN         NaN\n",
       "3543     NaN         NaN\n",
       "3544     NaN         NaN\n",
       "3545     NaN         NaN\n",
       "3546     NaN         NaN\n",
       "\n",
       "[3547 rows x 2 columns]"
      ]
     },
     "metadata": {},
     "output_type": "display_data"
    }
   ],
   "source": [
    "result = pd.concat([y_df,df1], axis=1)\n",
    "display(result)"
   ]
  },
  {
   "cell_type": "code",
   "execution_count": 162,
   "id": "07b12234-987d-429b-86ff-c4e664d038fc",
   "metadata": {},
   "outputs": [
    {
     "data": {
      "text/plain": [
       "0.5971830985915493"
      ]
     },
     "execution_count": 162,
     "metadata": {},
     "output_type": "execute_result"
    }
   ],
   "source": [
    "from sklearn. metrics import accuracy_score\n",
    "ac = accuracy_score(y_pred , y_test )\n",
    "ac"
   ]
  },
  {
   "cell_type": "code",
   "execution_count": 237,
   "id": "2aa42812-a0b8-4fb0-8efd-bda55426d4f6",
   "metadata": {},
   "outputs": [
    {
     "name": "stdout",
     "output_type": "stream",
     "text": [
      "[[ 83   2   0   0  30   0   0   0]\n",
      " [  1 159   0   0   0   0   0   1]\n",
      " [  0   0  34  12   0   0  18  43]\n",
      " [  0   0   4   8   0   0   7  11]\n",
      " [ 31   0   0   0  26   0   0   0]\n",
      " [  0   0   0   0   1  23   0   0]\n",
      " [  0   0  25   6   0   0  13  18]\n",
      " [  0   1  37  15   0   0  23  78]]\n"
     ]
    }
   ],
   "source": [
    "from sklearn.metrics import confusion_matrix \n",
    "cm = confusion_matrix(y_pred, y_test)\n",
    "print(cm)"
   ]
  },
  {
   "cell_type": "code",
   "execution_count": 169,
   "id": "9f649a48-e70b-4910-b249-0fd05e7b870b",
   "metadata": {},
   "outputs": [
    {
     "data": {
      "text/plain": [
       "'              precision    recall  f1-score   support\\n\\n           0       0.72      0.72      0.72       115\\n           1       0.98      0.99      0.98       161\\n           2       0.34      0.32      0.33       107\\n           3       0.20      0.27      0.23        30\\n           4       0.46      0.46      0.46        57\\n           5       1.00      0.96      0.98        24\\n           6       0.21      0.21      0.21        62\\n           7       0.52      0.51      0.51       154\\n\\n    accuracy                           0.60       710\\n   macro avg       0.55      0.55      0.55       710\\nweighted avg       0.60      0.60      0.60       710\\n'"
      ]
     },
     "execution_count": 169,
     "metadata": {},
     "output_type": "execute_result"
    }
   ],
   "source": [
    "from sklearn. metrics import classification_report\n",
    "cr = classification_report (y_pred, y_test)\n",
    "cr"
   ]
  },
  {
   "cell_type": "code",
   "execution_count": 173,
   "id": "6f422d06-2e8b-4be7-acbb-99a672d774eb",
   "metadata": {},
   "outputs": [
    {
     "name": "stdout",
     "output_type": "stream",
     "text": [
      "['Latte' 'Hot Chocolate' 'Americano' 'Americano with Milk' 'Cocoa'\n",
      " 'Cortado' 'Espresso' 'Cappuccino']\n"
     ]
    }
   ],
   "source": [
    "unique_coffees = dt['coffee_name'].unique()\n",
    "print(unique_coffees)\n"
   ]
  },
  {
   "cell_type": "code",
   "execution_count": 175,
   "id": "545c9e84-1b3d-4861-a0ad-c680e4456537",
   "metadata": {},
   "outputs": [
    {
     "data": {
      "text/plain": [
       "<function matplotlib.pyplot.show(close=None, block=None)>"
      ]
     },
     "execution_count": 175,
     "metadata": {},
     "output_type": "execute_result"
    },
    {
     "data": {
      "image/png": "[encoded data removed]",
      "text/plain": [
       "<Figure size 640x480 with 1 Axes>"
      ]
     },
     "metadata": {},
     "output_type": "display_data"
    }
   ],
   "source": [
    "plt . plot (y_pred, y_test)\n",
    "plt.show"
   ]
  },
  {
   "cell_type": "code",
   "execution_count": 178,
   "id": "cf8df57e-293c-43dc-a8a1-d06a76b7af31",
   "metadata": {},
   "outputs": [],
   "source": [
    "y_test_array = np.array(y_test)\n",
    "y_pred_array = np.array(y_pred)"
   ]
  },
  {
   "cell_type": "code",
   "execution_count": 180,
   "id": "098dd5f6-6956-4622-af2b-04bb8b78fce7",
   "metadata": {},
   "outputs": [
    {
     "data": {
      "text/plain": [
       "<function matplotlib.pyplot.show(close=None, block=None)>"
      ]
     },
     "execution_count": 180,
     "metadata": {},
     "output_type": "execute_result"
    },
    {
     "data": {
      "image/png": "[encoded data removed]",
      "text/plain": [
       "<Figure size 640x480 with 1 Axes>"
      ]
     },
     "metadata": {},
     "output_type": "display_data"
    }
   ],
   "source": [
    "plt.scatter(y_test_array, y_pred_array, color='blue', alpha=0.5, label='Predictions')\n",
    "plt.show"
   ]
  },
  {
   "cell_type": "code",
   "execution_count": 235,
   "id": "6e0e93a8-1435-4b71-9d76-5e2d721bf8a4",
   "metadata": {},
   "outputs": [
    {
     "data": {
      "image/png": "[encoded data removed]",
      "text/plain": [
       "<Figure size 640x480 with 1 Axes>"
      ]
     },
     "metadata": {},
     "output_type": "display_data"
    }
   ],
   "source": [
    "m, b = np.polyfit(y_test_array, y_pred_array, 1)  # slope, intercept\n",
    "plt.plot(y_test_array, m*y_test_array + b, color='red', label='Trendline')\n",
    "\n",
    "# Labels\n",
    "plt.xlabel('Actual')\n",
    "plt.ylabel('Predicted')\n",
    "plt.title('Customer Coffee Prediction')\n",
    "plt.legend()\n",
    "plt.show()"
   ]
  },
  {
   "cell_type": "code",
   "execution_count": 184,
   "id": "ddc50615-5518-442e-a579-63338c12cac9",
   "metadata": {},
   "outputs": [
    {
     "data": {
      "text/html": [
       "<div>\n",
       "<style scoped>\n",
       "    .dataframe tbody tr th:only-of-type {\n",
       "        vertical-align: middle;\n",
       "    }\n",
       "\n",
       "    .dataframe tbody tr th {\n",
       "        vertical-align: top;\n",
       "    }\n",
       "\n",
       "    .dataframe thead th {\n",
       "        text-align: right;\n",
       "    }\n",
       "</style>\n",
       "<table border=\"1\" class=\"dataframe\">\n",
       "  <thead>\n",
       "    <tr style=\"text-align: right;\">\n",
       "      <th></th>\n",
       "      <th>hour_of_day</th>\n",
       "      <th>cash_type</th>\n",
       "      <th>money</th>\n",
       "      <th>coffee_name</th>\n",
       "      <th>Time_of_Day</th>\n",
       "      <th>Weekday</th>\n",
       "      <th>Month_name</th>\n",
       "      <th>Weekdaysort</th>\n",
       "      <th>Monthsort</th>\n",
       "      <th>Date</th>\n",
       "      <th>Time</th>\n",
       "      <th>cash_type_enc</th>\n",
       "      <th>Time_of_Day_enc</th>\n",
       "      <th>Month_name_enc</th>\n",
       "    </tr>\n",
       "  </thead>\n",
       "  <tbody>\n",
       "    <tr>\n",
       "      <th>0</th>\n",
       "      <td>10</td>\n",
       "      <td>card</td>\n",
       "      <td>39</td>\n",
       "      <td>Latte</td>\n",
       "      <td>Morning</td>\n",
       "      <td>Fri</td>\n",
       "      <td>Mar</td>\n",
       "      <td>5</td>\n",
       "      <td>3</td>\n",
       "      <td>2024-03-01</td>\n",
       "      <td>10:15:50.520000</td>\n",
       "      <td>0</td>\n",
       "      <td>1</td>\n",
       "      <td>7</td>\n",
       "    </tr>\n",
       "    <tr>\n",
       "      <th>1</th>\n",
       "      <td>12</td>\n",
       "      <td>card</td>\n",
       "      <td>39</td>\n",
       "      <td>Hot Chocolate</td>\n",
       "      <td>Afternoon</td>\n",
       "      <td>Fri</td>\n",
       "      <td>Mar</td>\n",
       "      <td>5</td>\n",
       "      <td>3</td>\n",
       "      <td>2024-03-01</td>\n",
       "      <td>12:19:22.539000</td>\n",
       "      <td>0</td>\n",
       "      <td>0</td>\n",
       "      <td>7</td>\n",
       "    </tr>\n",
       "    <tr>\n",
       "      <th>2</th>\n",
       "      <td>12</td>\n",
       "      <td>card</td>\n",
       "      <td>39</td>\n",
       "      <td>Hot Chocolate</td>\n",
       "      <td>Afternoon</td>\n",
       "      <td>Fri</td>\n",
       "      <td>Mar</td>\n",
       "      <td>5</td>\n",
       "      <td>3</td>\n",
       "      <td>2024-03-01</td>\n",
       "      <td>12:20:18.089000</td>\n",
       "      <td>0</td>\n",
       "      <td>0</td>\n",
       "      <td>7</td>\n",
       "    </tr>\n",
       "    <tr>\n",
       "      <th>3</th>\n",
       "      <td>13</td>\n",
       "      <td>card</td>\n",
       "      <td>29</td>\n",
       "      <td>Americano</td>\n",
       "      <td>Afternoon</td>\n",
       "      <td>Fri</td>\n",
       "      <td>Mar</td>\n",
       "      <td>5</td>\n",
       "      <td>3</td>\n",
       "      <td>2024-03-01</td>\n",
       "      <td>13:46:33.006000</td>\n",
       "      <td>0</td>\n",
       "      <td>0</td>\n",
       "      <td>7</td>\n",
       "    </tr>\n",
       "    <tr>\n",
       "      <th>4</th>\n",
       "      <td>13</td>\n",
       "      <td>card</td>\n",
       "      <td>39</td>\n",
       "      <td>Latte</td>\n",
       "      <td>Afternoon</td>\n",
       "      <td>Fri</td>\n",
       "      <td>Mar</td>\n",
       "      <td>5</td>\n",
       "      <td>3</td>\n",
       "      <td>2024-03-01</td>\n",
       "      <td>13:48:14.626000</td>\n",
       "      <td>0</td>\n",
       "      <td>0</td>\n",
       "      <td>7</td>\n",
       "    </tr>\n",
       "    <tr>\n",
       "      <th>...</th>\n",
       "      <td>...</td>\n",
       "      <td>...</td>\n",
       "      <td>...</td>\n",
       "      <td>...</td>\n",
       "      <td>...</td>\n",
       "      <td>...</td>\n",
       "      <td>...</td>\n",
       "      <td>...</td>\n",
       "      <td>...</td>\n",
       "      <td>...</td>\n",
       "      <td>...</td>\n",
       "      <td>...</td>\n",
       "      <td>...</td>\n",
       "      <td>...</td>\n",
       "    </tr>\n",
       "    <tr>\n",
       "      <th>3542</th>\n",
       "      <td>10</td>\n",
       "      <td>card</td>\n",
       "      <td>36</td>\n",
       "      <td>Cappuccino</td>\n",
       "      <td>Morning</td>\n",
       "      <td>Sun</td>\n",
       "      <td>Mar</td>\n",
       "      <td>7</td>\n",
       "      <td>3</td>\n",
       "      <td>2025-03-23</td>\n",
       "      <td>10:34:54.894000</td>\n",
       "      <td>0</td>\n",
       "      <td>1</td>\n",
       "      <td>7</td>\n",
       "    </tr>\n",
       "    <tr>\n",
       "      <th>3543</th>\n",
       "      <td>14</td>\n",
       "      <td>card</td>\n",
       "      <td>36</td>\n",
       "      <td>Cocoa</td>\n",
       "      <td>Afternoon</td>\n",
       "      <td>Sun</td>\n",
       "      <td>Mar</td>\n",
       "      <td>7</td>\n",
       "      <td>3</td>\n",
       "      <td>2025-03-23</td>\n",
       "      <td>14:43:37.362000</td>\n",
       "      <td>0</td>\n",
       "      <td>0</td>\n",
       "      <td>7</td>\n",
       "    </tr>\n",
       "    <tr>\n",
       "      <th>3544</th>\n",
       "      <td>14</td>\n",
       "      <td>card</td>\n",
       "      <td>36</td>\n",
       "      <td>Cocoa</td>\n",
       "      <td>Afternoon</td>\n",
       "      <td>Sun</td>\n",
       "      <td>Mar</td>\n",
       "      <td>7</td>\n",
       "      <td>3</td>\n",
       "      <td>2025-03-23</td>\n",
       "      <td>14:44:16.864000</td>\n",
       "      <td>0</td>\n",
       "      <td>0</td>\n",
       "      <td>7</td>\n",
       "    </tr>\n",
       "    <tr>\n",
       "      <th>3545</th>\n",
       "      <td>15</td>\n",
       "      <td>card</td>\n",
       "      <td>26</td>\n",
       "      <td>Americano</td>\n",
       "      <td>Afternoon</td>\n",
       "      <td>Sun</td>\n",
       "      <td>Mar</td>\n",
       "      <td>7</td>\n",
       "      <td>3</td>\n",
       "      <td>2025-03-23</td>\n",
       "      <td>15:47:28.723000</td>\n",
       "      <td>0</td>\n",
       "      <td>0</td>\n",
       "      <td>7</td>\n",
       "    </tr>\n",
       "    <tr>\n",
       "      <th>3546</th>\n",
       "      <td>18</td>\n",
       "      <td>card</td>\n",
       "      <td>36</td>\n",
       "      <td>Latte</td>\n",
       "      <td>Night</td>\n",
       "      <td>Sun</td>\n",
       "      <td>Mar</td>\n",
       "      <td>7</td>\n",
       "      <td>3</td>\n",
       "      <td>2025-03-23</td>\n",
       "      <td>18:11:38.635000</td>\n",
       "      <td>0</td>\n",
       "      <td>2</td>\n",
       "      <td>7</td>\n",
       "    </tr>\n",
       "  </tbody>\n",
       "</table>\n",
       "<p>3547 rows × 14 columns</p>\n",
       "</div>"
      ],
      "text/plain": [
       "      hour_of_day cash_type  money    coffee_name Time_of_Day Weekday  \\\n",
       "0              10      card     39          Latte     Morning     Fri   \n",
       "1              12      card     39  Hot Chocolate   Afternoon     Fri   \n",
       "2              12      card     39  Hot Chocolate   Afternoon     Fri   \n",
       "3              13      card     29      Americano   Afternoon     Fri   \n",
       "4              13      card     39          Latte   Afternoon     Fri   \n",
       "...           ...       ...    ...            ...         ...     ...   \n",
       "3542           10      card     36     Cappuccino     Morning     Sun   \n",
       "3543           14      card     36          Cocoa   Afternoon     Sun   \n",
       "3544           14      card     36          Cocoa   Afternoon     Sun   \n",
       "3545           15      card     26      Americano   Afternoon     Sun   \n",
       "3546           18      card     36          Latte       Night     Sun   \n",
       "\n",
       "     Month_name  Weekdaysort  Monthsort        Date             Time  \\\n",
       "0           Mar            5          3  2024-03-01  10:15:50.520000   \n",
       "1           Mar            5          3  2024-03-01  12:19:22.539000   \n",
       "2           Mar            5          3  2024-03-01  12:20:18.089000   \n",
       "3           Mar            5          3  2024-03-01  13:46:33.006000   \n",
       "4           Mar            5          3  2024-03-01  13:48:14.626000   \n",
       "...         ...          ...        ...         ...              ...   \n",
       "3542        Mar            7          3  2025-03-23  10:34:54.894000   \n",
       "3543        Mar            7          3  2025-03-23  14:43:37.362000   \n",
       "3544        Mar            7          3  2025-03-23  14:44:16.864000   \n",
       "3545        Mar            7          3  2025-03-23  15:47:28.723000   \n",
       "3546        Mar            7          3  2025-03-23  18:11:38.635000   \n",
       "\n",
       "      cash_type_enc  Time_of_Day_enc  Month_name_enc  \n",
       "0                 0                1               7  \n",
       "1                 0                0               7  \n",
       "2                 0                0               7  \n",
       "3                 0                0               7  \n",
       "4                 0                0               7  \n",
       "...             ...              ...             ...  \n",
       "3542              0                1               7  \n",
       "3543              0                0               7  \n",
       "3544              0                0               7  \n",
       "3545              0                0               7  \n",
       "3546              0                2               7  \n",
       "\n",
       "[3547 rows x 14 columns]"
      ]
     },
     "execution_count": 184,
     "metadata": {},
     "output_type": "execute_result"
    }
   ],
   "source": [
    "\n",
    "dt"
   ]
  },
  {
   "cell_type": "code",
   "execution_count": 225,
   "id": "70ebb8df-aa77-4114-80af-1a52c2664ea0",
   "metadata": {},
   "outputs": [
    {
     "data": {
      "text/plain": [
       "0       10\n",
       "1       12\n",
       "2       12\n",
       "3       13\n",
       "4       13\n",
       "        ..\n",
       "3542    10\n",
       "3543    14\n",
       "3544    14\n",
       "3545    15\n",
       "3546    18\n",
       "Name: hour_of_day, Length: 3547, dtype: int64"
      ]
     },
     "execution_count": 225,
     "metadata": {},
     "output_type": "execute_result"
    }
   ],
   "source": [
    "da = dt['hour_of_day']\n",
    "da"
   ]
  },
  {
   "cell_type": "code",
   "execution_count": 227,
   "id": "3924b156-6988-4b40-a425-608c636e0fb5",
   "metadata": {},
   "outputs": [
    {
     "data": {
      "text/plain": [
       "0       39\n",
       "1       39\n",
       "2       39\n",
       "3       29\n",
       "4       39\n",
       "        ..\n",
       "3542    36\n",
       "3543    36\n",
       "3544    36\n",
       "3545    26\n",
       "3546    36\n",
       "Name: money, Length: 3547, dtype: int32"
      ]
     },
     "execution_count": 227,
     "metadata": {},
     "output_type": "execute_result"
    }
   ],
   "source": [
    "cn =  dt['money']\n",
    "cn"
   ]
  },
  {
   "cell_type": "code",
   "execution_count": 233,
   "id": "7e62ba86-eec9-40a0-ab07-5943b9157739",
   "metadata": {},
   "outputs": [
    {
     "data": {
      "image/png": "[encoded data removed]",
      "text/plain": [
       "<Figure size 640x480 with 1 Axes>"
      ]
     },
     "metadata": {},
     "output_type": "display_data"
    }
   ],
   "source": [
    "avg_money_per_hour = dt.groupby(\"hour_of_day\")[\"money\"].mean()\n",
    "plt.bar(avg_money_per_hour.index, avg_money_per_hour.values, color=\"aqua\", width=0.6, label=\"Avg Money per Hour\")\n",
    "plt.title(\"Average Money Spent by Hour of Day\")\n",
    "plt.xlabel(\"Hour of Day\")\n",
    "plt.ylabel(\"Average Money\")\n",
    "plt.legend()\n",
    "plt.show()"
   ]
  },
  {
   "cell_type": "code",
   "execution_count": null,
   "id": "0df8ce7c-dbbe-40d8-ba06-c342b54f0d10",
   "metadata": {},
   "outputs": [],
   "source": []
  },
  {
   "cell_type": "code",
   "execution_count": null,
   "id": "28b282b3-ac8f-4c7a-85a4-97a5d2b00cea",
   "metadata": {},
   "outputs": [],
   "source": []
  },
  {
   "cell_type": "code",
   "execution_count": null,
   "id": "faf857e2-87bc-47cf-b40a-0262236bb4f1",
   "metadata": {},
   "outputs": [],
   "source": []
  },
  {
   "cell_type": "code",
   "execution_count": null,
   "id": "d8a22189-fcef-4453-a295-380577a9e90c",
   "metadata": {},
   "outputs": [],
   "source": []
  }
 ],
 "metadata": {
  "kernelspec": {
   "display_name": "Python [conda env:base] *",
   "language": "python",
   "name": "conda-base-py"
  },
  "language_info": {
   "codemirror_mode": {
    "name": "ipython",
    "version": 3
   },
   "file_extension": ".py",
   "mimetype": "text/x-python",
   "name": "python",
   "nbconvert_exporter": "python",
   "pygments_lexer": "ipython3",
   "version": "3.12.7"
  }
 },
 "nbformat": 4,
 "nbformat_minor": 5
}
